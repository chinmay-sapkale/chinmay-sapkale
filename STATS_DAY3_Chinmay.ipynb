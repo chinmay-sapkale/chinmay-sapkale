{
 "cells": [
  {
   "cell_type": "markdown",
   "metadata": {},
   "source": [
    "3.Problem: The mean salaries of Data Scientist working in Chennai , India is calculated to be\n",
    "700000 INR with standard deviation of 90,000 INR. The random variable salary of Data Scientists \n",
    "follows a normal distribution"
   ]
  },
  {
   "cell_type": "markdown",
   "metadata": {},
   "source": [
    "a) What is the probability that a Data Scientist in Chennai has a salary more than 10,00,000 INR?\n",
    "\n",
    "b) What is the probability that a Data Scientist in Chennai has a salary between 6,00,000 &     9,00,000 INR?\n",
    "\n",
    "c)What is the probability that a Data Scientist in Chennai has a salary less than 4,00,000 INR?"
   ]
  },
  {
   "cell_type": "code",
   "execution_count": 4,
   "metadata": {},
   "outputs": [],
   "source": [
    "import   scipy.stats                      as     stats\n",
    "import   statsmodels.stats.proportion     as     SMP\n",
    "import   numpy                            as     np\n",
    "import   pandas                           as     pd\n",
    "import   matplotlib.pyplot                as     plt\n",
    "import   seaborn                          as     sns\n",
    "from     IPython.display                  import Image\n",
    "import   statistics"
   ]
  },
  {
   "cell_type": "code",
   "execution_count": 23,
   "metadata": {},
   "outputs": [
    {
     "name": "stdout",
     "output_type": "stream",
     "text": [
      "Z-Scale of 1000000: 3.3333333333333335\n",
      "Probability that Data Scientist in Chennai has salary more than 1000000: 0.04 %\n"
     ]
    }
   ],
   "source": [
    "#a)\n",
    "mu = 700000\n",
    "sd = 90000\n",
    "z_value_1cr = (1000000 - mu)/sd\n",
    "print(\"Z-Scale of 1000000:\",z_value_1cr)\n",
    "P_more_than_1000000 = 1 - stats.norm.cdf(z_value_1cr)\n",
    "print(\"Probability that Data Scientist in Chennai has salary more than 1000000: {0:1.2f}\".format(P_more_than_1000000*100),\"%\")"
   ]
  },
  {
   "cell_type": "code",
   "execution_count": 25,
   "metadata": {},
   "outputs": [
    {
     "name": "stdout",
     "output_type": "stream",
     "text": [
      "Z-Scale of 600000: -1.1111111111111112\n",
      "Z-scale of 900000: 2.2222222222222223\n",
      "Probability that Data Scientist in Chennai has salary between 6,00,000 & 9,00,000 INR: 85.33 %\n"
     ]
    }
   ],
   "source": [
    "#b)\n",
    "z1 = (600000 - mu)/sd\n",
    "z2 = (900000 - mu)/sd\n",
    "print(\"Z-Scale of 600000:\",z1)\n",
    "print(\"Z-scale of 900000:\",z2)\n",
    "P1 = stats.norm.cdf(-1.11)\n",
    "P2 = stats.norm.cdf(2.22)\n",
    "P  = P2 - P1\n",
    "print(\"Probability that Data Scientist in Chennai has salary between 6,00,000 & 9,00,000 INR: {0:1.2f}\".format(P*100),\"%\")"
   ]
  },
  {
   "cell_type": "code",
   "execution_count": 26,
   "metadata": {},
   "outputs": [
    {
     "name": "stdout",
     "output_type": "stream",
     "text": [
      "Z-scale value of 400000: -3.3333333333333335\n",
      "Probability that Data Scientist in Chennai has salary less than 400000INR: 0.04 %\n"
     ]
    }
   ],
   "source": [
    "#c)\n",
    "z_c  = (400000 - mu)/sd\n",
    "print(\"Z-scale value of 400000:\",z_c)\n",
    "P_c  = stats.norm.cdf(z_c)\n",
    "print(\"Probability that Data Scientist in Chennai has salary less than 400000INR: {0:1.2f}\".format(P_c*100),\"%\")\n"
   ]
  },
  {
   "cell_type": "markdown",
   "metadata": {},
   "source": [
    "Sampling Distribution And Standard Error"
   ]
  },
  {
   "cell_type": "code",
   "execution_count": 34,
   "metadata": {},
   "outputs": [
    {
     "data": {
      "text/plain": [
       "array([-1.01000252, -0.6339744 , -1.40738387, -0.67433034,  0.94640125,\n",
       "        0.48261574,  0.93364122,  0.63755087, -0.30109766,  0.52951308,\n",
       "        1.1699266 ,  0.66555605, -0.40638477,  0.48799476, -0.35209117,\n",
       "       -0.09405286, -0.77105259, -1.24791937,  0.01347657,  0.56078671,\n",
       "       -1.10716843, -1.51572597, -0.76780279, -0.2576407 ,  0.11577005,\n",
       "        0.40841399, -1.10862224,  0.27779748,  0.41944927,  2.35537845,\n",
       "       -0.50231748,  0.56288885,  0.35650363, -0.60751432,  3.45008632,\n",
       "       -0.37767333,  0.13076123,  0.78266661,  2.23357807,  1.38477785,\n",
       "       -1.97104779,  0.5005984 , -0.38265799,  0.01280949, -0.16960007,\n",
       "        1.80374599, -0.7008631 , -0.60682572,  0.01575904,  1.00109951,\n",
       "       -1.24304298, -0.46751442,  1.98346588, -0.53906041,  0.24271897,\n",
       "        0.81154988, -0.83175134, -0.33028835,  0.13823444, -0.49425587,\n",
       "        0.2056636 ,  1.75196061,  1.35280666,  0.79998113,  0.19464661,\n",
       "       -0.77345544,  0.06227835,  1.04215171, -1.09663739,  0.93262026,\n",
       "        0.58542505, -0.11643023,  0.44089372,  0.64623031,  0.06440151,\n",
       "       -0.30566593,  1.10864055,  0.66715866, -0.1993246 , -0.79261372,\n",
       "       -0.31665247,  0.63550363, -0.17948477,  0.90022408,  0.40115194,\n",
       "       -0.73640789,  1.74203834, -1.80558105, -0.08243378, -0.85951932,\n",
       "        0.80460123,  2.45604733,  0.06073688, -0.02201579,  0.89638613,\n",
       "       -0.01560508, -1.38967831,  0.85387654, -1.64215972, -0.97031605])"
      ]
     },
     "execution_count": 34,
     "metadata": {},
     "output_type": "execute_result"
    }
   ],
   "source": [
    "#generates 30 samples\n",
    "# randn return the samples from standard normal distribution\n",
    "test = np.random.randn(100)\n",
    "test"
   ]
  },
  {
   "cell_type": "code",
   "execution_count": 35,
   "metadata": {},
   "outputs": [
    {
     "data": {
      "text/plain": [
       "-1.9710477925844394"
      ]
     },
     "execution_count": 35,
     "metadata": {},
     "output_type": "execute_result"
    }
   ],
   "source": [
    "np.min(test)"
   ]
  },
  {
   "cell_type": "code",
   "execution_count": 36,
   "metadata": {},
   "outputs": [
    {
     "data": {
      "text/plain": [
       "3.450086322044796"
      ]
     },
     "execution_count": 36,
     "metadata": {},
     "output_type": "execute_result"
    }
   ],
   "source": [
    "np.max(test)"
   ]
  },
  {
   "cell_type": "code",
   "execution_count": 38,
   "metadata": {},
   "outputs": [
    {
     "data": {
      "text/plain": [
       "(0.11837296679258999, 0.979311602828618)"
      ]
     },
     "execution_count": 38,
     "metadata": {},
     "output_type": "execute_result"
    }
   ],
   "source": [
    "#To check whether distribution is normal we need to have mean close to 0 and std close to 1\n",
    "np.mean(test),np.std(test,ddof = 1)"
   ]
  },
  {
   "cell_type": "code",
   "execution_count": 39,
   "metadata": {},
   "outputs": [
    {
     "data": {
      "text/plain": [
       "array([ 1.65588808,  0.30181027, -0.48738074,  0.60160348, -0.90445502,\n",
       "       -1.73168564, -2.56966448, -0.22104824, -0.40610907, -0.70184161,\n",
       "        0.20429589,  1.55432251,  0.64536909, -0.13995764,  1.21840363,\n",
       "        0.04962358, -0.52290584,  0.95007008, -0.16753972, -0.96848851,\n",
       "        0.51381233, -0.67582177,  0.79533038,  0.23344582,  0.3913981 ,\n",
       "       -0.19414763, -0.50798809,  0.21608965,  0.42411976,  0.03229217,\n",
       "        0.26670524,  0.08611798, -1.05486766, -1.65418668, -0.57824118,\n",
       "       -0.67192295, -0.66880984, -0.27615046])"
      ]
     },
     "execution_count": 39,
     "metadata": {},
     "output_type": "execute_result"
    }
   ],
   "source": [
    "#Exercise : generate n =38 and mu = 24 and sd = 3 as range of age in real unit years\n",
    "test1 = np.random.randn(38)\n",
    "test1"
   ]
  },
  {
   "cell_type": "code",
   "execution_count": 40,
   "metadata": {},
   "outputs": [
    {
     "data": {
      "text/plain": [
       "array([28.96766425, 24.90543082, 22.53785778, 25.80481043, 21.28663493,\n",
       "       18.80494307, 16.29100656, 23.33685528, 22.78167278, 21.89447518,\n",
       "       24.61288767, 28.66296753, 25.93610728, 23.58012708, 27.65521088,\n",
       "       24.14887073, 22.43128249, 26.85021024, 23.49738085, 21.09453446,\n",
       "       25.54143698, 21.9725347 , 26.38599113, 24.70033745, 25.17419431,\n",
       "       23.41755711, 22.47603572, 24.64826894, 25.27235929, 24.09687651,\n",
       "       24.80011573, 24.25835395, 20.83539701, 19.03743995, 22.26527645,\n",
       "       21.98423114, 21.99357049, 23.17154861])"
      ]
     },
     "execution_count": 40,
     "metadata": {},
     "output_type": "execute_result"
    }
   ],
   "source": [
    "#Converting normal distribution to the original scale\n",
    "#age=(test*sd)+mu\n",
    "age =  (test1*3)+24\n",
    "age"
   ]
  },
  {
   "cell_type": "code",
   "execution_count": 41,
   "metadata": {},
   "outputs": [
    {
     "data": {
      "text/plain": [
       "(16.29100656436422, 28.967664247792086)"
      ]
     },
     "execution_count": 41,
     "metadata": {},
     "output_type": "execute_result"
    }
   ],
   "source": [
    "np.min(age),np.max(age)"
   ]
  },
  {
   "cell_type": "code",
   "execution_count": 43,
   "metadata": {},
   "outputs": [
    {
     "data": {
      "text/plain": [
       "array([26.21105109, 25.68924498, 22.08952838, 25.03979694, 23.80198298,\n",
       "       23.37175469, 26.15027302, 26.50888529, 22.70837077, 28.89688398,\n",
       "       15.64163555, 26.90027846, 20.14547128, 25.61445077, 23.2529198 ,\n",
       "       22.98074216, 23.26798338, 28.82371562, 28.03009636, 21.20488202,\n",
       "       30.04709504, 24.35487305, 21.38149571, 23.96811123, 26.94441352,\n",
       "       22.37409529, 22.12716901, 30.18360314, 22.37217405, 25.37853222,\n",
       "       25.71843824, 20.81617295, 20.83389332, 22.15731037, 26.75794171,\n",
       "       24.25536256, 26.31415714, 25.77849948])"
      ]
     },
     "execution_count": 43,
     "metadata": {},
     "output_type": "execute_result"
    }
   ],
   "source": [
    "#using python function\n",
    "#loc ==> mean\n",
    "#scale ==> sd\n",
    "#size ==> number of samples\n",
    "np.random.normal(loc = 24 , scale = 3 ,size = 38)"
   ]
  },
  {
   "cell_type": "code",
   "execution_count": null,
   "metadata": {},
   "outputs": [],
   "source": []
  },
  {
   "cell_type": "code",
   "execution_count": 29,
   "metadata": {},
   "outputs": [],
   "source": [
    "p = np.random.randn(50000)"
   ]
  },
  {
   "cell_type": "code",
   "execution_count": 30,
   "metadata": {},
   "outputs": [
    {
     "data": {
      "text/plain": [
       "array([-3.63244890e-01,  7.98215316e-01,  4.59113514e-01,  7.18649437e-02,\n",
       "        1.30502893e+00,  1.39832174e-01, -1.35743735e-01,  9.94206322e-02,\n",
       "        3.70129912e-01, -1.50792769e+00, -1.61983128e-01, -7.89295280e-01,\n",
       "       -1.56557021e+00, -8.40858316e-01,  1.07471038e+00, -1.06121752e+00,\n",
       "       -1.65632394e+00,  1.51852264e+00, -1.13347488e+00, -1.56929079e-01,\n",
       "        5.43345214e-01,  1.26671101e+00, -5.06695894e-01,  1.19546431e+00,\n",
       "        5.99193435e-01,  6.44049518e-01, -3.55730914e-01,  1.90024947e+00,\n",
       "       -1.18390786e+00,  5.65772464e-02,  5.55885335e-01, -2.44227088e+00,\n",
       "        2.35275213e-01,  1.52344943e-03,  2.27972266e+00, -3.17000575e-01,\n",
       "       -1.15752093e+00,  7.91538354e-01,  3.65801383e-01,  9.96063461e-02,\n",
       "        1.90220064e-01, -1.15642086e+00, -3.70051759e-01, -1.28487040e+00,\n",
       "       -9.77492365e-01, -9.81542437e-01,  1.19646742e+00,  8.10169464e-01,\n",
       "        9.86197300e-01, -4.19265240e-01,  4.06541708e-01, -4.90701555e-02,\n",
       "        1.82901644e-01,  1.50058842e-01,  1.37247727e+00, -8.20111729e-01,\n",
       "       -6.07137016e-01, -6.10233019e-01,  3.43093124e-01, -1.54617922e-01,\n",
       "        6.77366704e-01, -7.25215075e-01,  1.10093262e-01, -1.23285214e+00,\n",
       "        7.09059409e-01, -5.98295608e-01, -2.98910428e-01, -3.89287398e-01,\n",
       "       -5.88913257e-03,  3.71993051e-03,  9.03848760e-01, -9.15742929e-01,\n",
       "       -3.25747545e-01, -2.80184150e-01,  1.49852539e+00,  1.80649472e-01,\n",
       "        1.26963363e+00, -8.29231663e-02,  2.18999540e-01, -2.12358188e-01,\n",
       "       -1.36203990e-01,  9.49637155e-02,  5.65561552e-01, -1.92050417e+00,\n",
       "       -9.38399582e-03, -5.54622396e-01, -4.16680963e-01, -1.11911676e+00,\n",
       "       -6.66858508e-01, -1.47463503e+00, -3.81231526e-01, -1.33955500e+00,\n",
       "       -5.90146821e-01, -6.60157857e-01,  7.15690789e-02,  1.99155017e-01,\n",
       "        1.19058700e+00,  1.56156989e+00, -6.82942202e-01,  3.27429625e-01])"
      ]
     },
     "execution_count": 30,
     "metadata": {},
     "output_type": "execute_result"
    }
   ],
   "source": [
    "p[:100]"
   ]
  },
  {
   "cell_type": "code",
   "execution_count": null,
   "metadata": {},
   "outputs": [],
   "source": [
    "#Average salary of  3 years  exp data Scientist = 7.8 LPA, SD =0.35L , N = 50000"
   ]
  },
  {
   "cell_type": "code",
   "execution_count": 44,
   "metadata": {},
   "outputs": [],
   "source": [
    "#1)Generating 50000 random samples\n",
    "p = np.random.randn(50000)"
   ]
  },
  {
   "cell_type": "code",
   "execution_count": 45,
   "metadata": {},
   "outputs": [],
   "source": [
    "#2)COnvert above standard normal distribution to orginal unit\n",
    "pop = (p*0.35)+7.8"
   ]
  },
  {
   "cell_type": "code",
   "execution_count": 46,
   "metadata": {},
   "outputs": [
    {
     "data": {
      "text/plain": [
       "(7.801285600014902, 0.3489919284355926)"
      ]
     },
     "execution_count": 46,
     "metadata": {},
     "output_type": "execute_result"
    }
   ],
   "source": [
    "np.mean(pop),np.std(pop)"
   ]
  },
  {
   "cell_type": "code",
   "execution_count": 47,
   "metadata": {},
   "outputs": [
    {
     "data": {
      "text/plain": [
       "(9.212488250290862, 7.801285600014902)"
      ]
     },
     "execution_count": 47,
     "metadata": {},
     "output_type": "execute_result"
    }
   ],
   "source": [
    "np.max(pop),np.mean(pop)"
   ]
  },
  {
   "cell_type": "code",
   "execution_count": 48,
   "metadata": {},
   "outputs": [
    {
     "data": {
      "text/plain": [
       "array([[<AxesSubplot:title={'center':'0'}>]], dtype=object)"
      ]
     },
     "execution_count": 48,
     "metadata": {},
     "output_type": "execute_result"
    },
    {
     "data": {
      "image/png": "[encoded data removed]",
      "text/plain": [
       "<Figure size 432x288 with 1 Axes>"
      ]
     },
     "metadata": {
      "needs_background": "light"
     },
     "output_type": "display_data"
    }
   ],
   "source": [
    "pop_df = pd.DataFrame(pop)\n",
    "pop_df.hist()"
   ]
  },
  {
   "cell_type": "code",
   "execution_count": null,
   "metadata": {},
   "outputs": [],
   "source": [
    "#Process-1 (Multiple rounds of sampling)"
   ]
  },
  {
   "cell_type": "code",
   "execution_count": 49,
   "metadata": {},
   "outputs": [],
   "source": [
    "#collect each round of sampling\n",
    "trial = []"
   ]
  },
  {
   "cell_type": "code",
   "execution_count": 50,
   "metadata": {},
   "outputs": [],
   "source": [
    "for itr in np.arange(50):\n",
    "    samp = []\n",
    "    for val in np.arange(300):\n",
    "        samp.append(np.random.choice(pop))\n",
    "    trial.append(np.mean(samp))"
   ]
  },
  {
   "cell_type": "code",
   "execution_count": null,
   "metadata": {},
   "outputs": [],
   "source": [
    "#explanantion for above code\n",
    "#50 is number of trials\n",
    "#In every trial i am going to take 300 records\n",
    "#samp.append(np.random.choice(pop)) ==> will select 300 records randomly from pop and save in samp\n",
    "#trial.append(np.mean(samp)) ==> store the means of s1,s2,..sk\n",
    "#trial stores the mean of all samples"
   ]
  },
  {
   "cell_type": "code",
   "execution_count": 51,
   "metadata": {},
   "outputs": [
    {
     "data": {
      "text/plain": [
       "50"
      ]
     },
     "execution_count": 51,
     "metadata": {},
     "output_type": "execute_result"
    }
   ],
   "source": [
    "len(trial)"
   ]
  },
  {
   "cell_type": "code",
   "execution_count": 52,
   "metadata": {},
   "outputs": [
    {
     "data": {
      "text/plain": [
       "[7.8215641723250515,\n",
       " 7.788398231875085,\n",
       " 7.791265335130873,\n",
       " 7.795633548925323,\n",
       " 7.795682287463888,\n",
       " 7.789760720562509,\n",
       " 7.818721026682075,\n",
       " 7.787365750230893,\n",
       " 7.7920117309487935,\n",
       " 7.811506637029179,\n",
       " 7.790686863285317,\n",
       " 7.839548137391259,\n",
       " 7.788801912606689,\n",
       " 7.8021616818237245,\n",
       " 7.79140506784664,\n",
       " 7.7764658920179075,\n",
       " 7.7961057166542345,\n",
       " 7.8037520235483875,\n",
       " 7.808080334467589,\n",
       " 7.800090715934772,\n",
       " 7.811546760821454,\n",
       " 7.797583069309835,\n",
       " 7.85278085935585,\n",
       " 7.809671626715422,\n",
       " 7.798149311876006,\n",
       " 7.777321175278114,\n",
       " 7.786973046647951,\n",
       " 7.784897550733048,\n",
       " 7.848002028250818,\n",
       " 7.823725600136237,\n",
       " 7.814176345358213,\n",
       " 7.821716244746385,\n",
       " 7.818713347346804,\n",
       " 7.831836942579599,\n",
       " 7.7958950775127445,\n",
       " 7.783253978721484,\n",
       " 7.785852241394198,\n",
       " 7.80834000870003,\n",
       " 7.797437669248187,\n",
       " 7.827116141669473,\n",
       " 7.767502417263249,\n",
       " 7.836643004062035,\n",
       " 7.805110488839683,\n",
       " 7.744736162053811,\n",
       " 7.805585084818826,\n",
       " 7.773779395645709,\n",
       " 7.852152522262943,\n",
       " 7.790434416803752,\n",
       " 7.779815571156669,\n",
       " 7.763792622192839]"
      ]
     },
     "execution_count": 52,
     "metadata": {},
     "output_type": "execute_result"
    }
   ],
   "source": [
    "#trial[0] is 1st trial mean\n",
    "#trial[1] is second trial mean\n",
    "trial"
   ]
  },
  {
   "cell_type": "code",
   "execution_count": 53,
   "metadata": {},
   "outputs": [
    {
     "data": {
      "text/plain": [
       "7.801670969965032"
      ]
     },
     "execution_count": 53,
     "metadata": {},
     "output_type": "execute_result"
    }
   ],
   "source": [
    "#we need to get mean of mean of samples x-bar-bar\n",
    "np.mean(trial)"
   ]
  },
  {
   "cell_type": "code",
   "execution_count": null,
   "metadata": {},
   "outputs": [],
   "source": [
    "#the above is point estimate(which is risky so we need to give range)\n",
    "#so we need to calculate std of the trial"
   ]
  },
  {
   "cell_type": "code",
   "execution_count": 55,
   "metadata": {},
   "outputs": [
    {
     "data": {
      "text/plain": [
       "0.02247999210575666"
      ]
     },
     "execution_count": 55,
     "metadata": {},
     "output_type": "execute_result"
    }
   ],
   "source": [
    "np.std(trial,ddof = 1) #STANDARD ERROR OF MEAN"
   ]
  },
  {
   "cell_type": "code",
   "execution_count": null,
   "metadata": {},
   "outputs": [],
   "source": [
    "#We want to fetch the 95% data\n",
    "#according to empirical rule 95.5% is covered betwwen -2sd to +2sd\n",
    "#so we need to push 0.25 on both sides(ie 1.96)\n"
   ]
  },
  {
   "cell_type": "code",
   "execution_count": 56,
   "metadata": {},
   "outputs": [
    {
     "data": {
      "text/plain": [
       "7.757610185437749"
      ]
     },
     "execution_count": 56,
     "metadata": {},
     "output_type": "execute_result"
    }
   ],
   "source": [
    "#lower limit\n",
    "7.801670969965032 - 1.96*0.02247999210575666"
   ]
  },
  {
   "cell_type": "code",
   "execution_count": 57,
   "metadata": {},
   "outputs": [
    {
     "data": {
      "text/plain": [
       "7.8457317544923155"
      ]
     },
     "execution_count": 57,
     "metadata": {},
     "output_type": "execute_result"
    }
   ],
   "source": [
    "#Upper Limit\n",
    "7.801670969965032 + 1.96*0.02247999210575666"
   ]
  },
  {
   "cell_type": "code",
   "execution_count": null,
   "metadata": {},
   "outputs": [],
   "source": [
    "#inference \n",
    "#population mu(7.67) lies in 95% Confidence Interval range [7.7576 to 7.845]"
   ]
  },
  {
   "cell_type": "code",
   "execution_count": null,
   "metadata": {},
   "outputs": [],
   "source": [
    "#from where 1.96 came \n",
    "#remaing 5%  we divided into 2 parts 2.5+2.5"
   ]
  },
  {
   "cell_type": "code",
   "execution_count": 2,
   "metadata": {},
   "outputs": [
    {
     "data": {
      "text/plain": [
       "5"
      ]
     },
     "execution_count": 2,
     "metadata": {},
     "output_type": "execute_result"
    }
   ],
   "source": [
    "100-95"
   ]
  },
  {
   "cell_type": "code",
   "execution_count": 3,
   "metadata": {},
   "outputs": [
    {
     "data": {
      "text/plain": [
       "0.05"
      ]
     },
     "execution_count": 3,
     "metadata": {},
     "output_type": "execute_result"
    }
   ],
   "source": [
    "5/100"
   ]
  },
  {
   "cell_type": "code",
   "execution_count": 4,
   "metadata": {},
   "outputs": [
    {
     "data": {
      "text/plain": [
       "0.025"
      ]
     },
     "execution_count": 4,
     "metadata": {},
     "output_type": "execute_result"
    }
   ],
   "source": [
    "0.05/2"
   ]
  },
  {
   "cell_type": "code",
   "execution_count": 59,
   "metadata": {},
   "outputs": [
    {
     "data": {
      "text/plain": [
       "1.96"
      ]
     },
     "execution_count": 59,
     "metadata": {},
     "output_type": "execute_result"
    }
   ],
   "source": [
    "np.abs(round(stats.norm.isf(q = 0.025),2))"
   ]
  },
  {
   "cell_type": "code",
   "execution_count": 60,
   "metadata": {},
   "outputs": [
    {
     "data": {
      "text/plain": [
       "4.5"
      ]
     },
     "execution_count": 60,
     "metadata": {},
     "output_type": "execute_result"
    }
   ],
   "source": [
    "#consider 95.5%\n",
    "100 - 95.5"
   ]
  },
  {
   "cell_type": "code",
   "execution_count": 61,
   "metadata": {},
   "outputs": [
    {
     "data": {
      "text/plain": [
       "0.045"
      ]
     },
     "execution_count": 61,
     "metadata": {},
     "output_type": "execute_result"
    }
   ],
   "source": [
    "4.5/100"
   ]
  },
  {
   "cell_type": "code",
   "execution_count": 62,
   "metadata": {},
   "outputs": [
    {
     "data": {
      "text/plain": [
       "0.0225"
      ]
     },
     "execution_count": 62,
     "metadata": {},
     "output_type": "execute_result"
    }
   ],
   "source": [
    "0.045/2"
   ]
  },
  {
   "cell_type": "code",
   "execution_count": 64,
   "metadata": {},
   "outputs": [
    {
     "data": {
      "text/plain": [
       "2.0"
      ]
     },
     "execution_count": 64,
     "metadata": {},
     "output_type": "execute_result"
    }
   ],
   "source": [
    "np.abs(round(stats.norm.isf(q = 0.0225),2))"
   ]
  },
  {
   "cell_type": "code",
   "execution_count": null,
   "metadata": {},
   "outputs": [],
   "source": [
    "#for 1 sigma 68%"
   ]
  },
  {
   "cell_type": "code",
   "execution_count": 65,
   "metadata": {},
   "outputs": [
    {
     "data": {
      "text/plain": [
       "32"
      ]
     },
     "execution_count": 65,
     "metadata": {},
     "output_type": "execute_result"
    }
   ],
   "source": [
    "100 - 68"
   ]
  },
  {
   "cell_type": "code",
   "execution_count": 67,
   "metadata": {},
   "outputs": [
    {
     "data": {
      "text/plain": [
       "0.32"
      ]
     },
     "execution_count": 67,
     "metadata": {},
     "output_type": "execute_result"
    }
   ],
   "source": [
    "32/100"
   ]
  },
  {
   "cell_type": "code",
   "execution_count": 68,
   "metadata": {},
   "outputs": [
    {
     "data": {
      "text/plain": [
       "0.16"
      ]
     },
     "execution_count": 68,
     "metadata": {},
     "output_type": "execute_result"
    }
   ],
   "source": [
    "0.32/2"
   ]
  },
  {
   "cell_type": "code",
   "execution_count": 69,
   "metadata": {},
   "outputs": [
    {
     "data": {
      "text/plain": [
       "0.99"
      ]
     },
     "execution_count": 69,
     "metadata": {},
     "output_type": "execute_result"
    }
   ],
   "source": [
    "np.abs(round(stats.norm.isf(q = 0.16),2))"
   ]
  },
  {
   "cell_type": "code",
   "execution_count": 70,
   "metadata": {},
   "outputs": [
    {
     "data": {
      "text/plain": [
       "1"
      ]
     },
     "execution_count": 70,
     "metadata": {},
     "output_type": "execute_result"
    }
   ],
   "source": [
    "#calculate for 99% confidence\n",
    "100-99"
   ]
  },
  {
   "cell_type": "code",
   "execution_count": 71,
   "metadata": {},
   "outputs": [
    {
     "data": {
      "text/plain": [
       "0.01"
      ]
     },
     "execution_count": 71,
     "metadata": {},
     "output_type": "execute_result"
    }
   ],
   "source": [
    "1/100"
   ]
  },
  {
   "cell_type": "code",
   "execution_count": 72,
   "metadata": {},
   "outputs": [
    {
     "data": {
      "text/plain": [
       "0.005"
      ]
     },
     "execution_count": 72,
     "metadata": {},
     "output_type": "execute_result"
    }
   ],
   "source": [
    "0.01/2"
   ]
  },
  {
   "cell_type": "code",
   "execution_count": 73,
   "metadata": {},
   "outputs": [
    {
     "data": {
      "text/plain": [
       "2.58"
      ]
     },
     "execution_count": 73,
     "metadata": {},
     "output_type": "execute_result"
    }
   ],
   "source": [
    "np.abs(round(stats.norm.isf(q = 0.005),2))"
   ]
  },
  {
   "cell_type": "code",
   "execution_count": 74,
   "metadata": {},
   "outputs": [],
   "source": [
    "#process2(practical method)\n",
    "samp = []\n",
    "for val in np.arange(300):\n",
    "    samp.append(np.random.choice(pop))\n"
   ]
  },
  {
   "cell_type": "code",
   "execution_count": 75,
   "metadata": {},
   "outputs": [
    {
     "data": {
      "text/plain": [
       "300"
      ]
     },
     "execution_count": 75,
     "metadata": {},
     "output_type": "execute_result"
    }
   ],
   "source": [
    "len(samp)"
   ]
  },
  {
   "cell_type": "code",
   "execution_count": 76,
   "metadata": {},
   "outputs": [
    {
     "data": {
      "text/plain": [
       "(7.773140224098929, 0.3405733222250645)"
      ]
     },
     "execution_count": 76,
     "metadata": {},
     "output_type": "execute_result"
    }
   ],
   "source": [
    "np.mean(samp),np.std(samp,ddof=1)  #statistical fluke"
   ]
  },
  {
   "cell_type": "code",
   "execution_count": 78,
   "metadata": {},
   "outputs": [
    {
     "data": {
      "text/plain": [
       "0.01966300992654461"
      ]
     },
     "execution_count": 78,
     "metadata": {},
     "output_type": "execute_result"
    }
   ],
   "source": [
    "#standard error of mean(SEM)\n",
    "SE = 0.3405733222250645/np.sqrt(300)\n",
    "SE"
   ]
  },
  {
   "cell_type": "code",
   "execution_count": null,
   "metadata": {},
   "outputs": [],
   "source": [
    "#select 95% window"
   ]
  },
  {
   "cell_type": "code",
   "execution_count": 79,
   "metadata": {},
   "outputs": [
    {
     "data": {
      "text/plain": [
       "7.734600724642902"
      ]
     },
     "execution_count": 79,
     "metadata": {},
     "output_type": "execute_result"
    }
   ],
   "source": [
    "#Lower LImit\n",
    "7.773140224098929-1.96*SE"
   ]
  },
  {
   "cell_type": "code",
   "execution_count": 81,
   "metadata": {},
   "outputs": [
    {
     "data": {
      "text/plain": [
       "7.811679723554957"
      ]
     },
     "execution_count": 81,
     "metadata": {},
     "output_type": "execute_result"
    }
   ],
   "source": [
    "#upper limit\n",
    "7.773140224098929+1.96*SE"
   ]
  },
  {
   "cell_type": "code",
   "execution_count": null,
   "metadata": {},
   "outputs": [],
   "source": [
    "#inference\n",
    "#We have estimated the range of population mean lies in 95%CI range of\n",
    "#[7.734lakhs to 7.81lakhs]"
   ]
  },
  {
   "cell_type": "code",
   "execution_count": 124,
   "metadata": {},
   "outputs": [],
   "source": [
    "#Q)Assume enitre class of 64 students\n",
    "age = np.random.uniform(low=20, high= 26, size= 64)"
   ]
  },
  {
   "cell_type": "code",
   "execution_count": 127,
   "metadata": {},
   "outputs": [
    {
     "data": {
      "text/plain": [
       "array([25.0867408 , 23.57488321, 22.99044952, 21.44084554, 25.78372207,\n",
       "       21.69084262, 22.57421307, 22.54609601, 22.87887433, 22.94304205,\n",
       "       24.34609874, 23.1656739 , 23.00418641, 21.17030444, 23.26543825,\n",
       "       23.84603172, 23.64961845, 20.29847511, 22.8096404 , 22.00484319,\n",
       "       20.81104316, 20.93658593, 25.43044868, 20.40843609, 22.08888637,\n",
       "       22.32784434, 24.31459409, 20.74779202, 23.29828508, 22.28225207,\n",
       "       25.51561414, 22.19939797, 21.63804687, 23.53752058, 22.15349047,\n",
       "       25.49330681, 23.52596148, 21.08675082, 23.21923243, 25.65417558,\n",
       "       23.22686403, 20.73197392, 22.38375487, 20.06086455, 24.98390154,\n",
       "       25.3785346 , 21.72299113, 23.65133998, 22.10562791, 20.97251242,\n",
       "       20.97270316, 23.63585649, 22.21669246, 22.3368528 , 25.16168265,\n",
       "       24.16080904, 20.12222973, 23.47715144, 20.96518821, 23.71617065,\n",
       "       20.38115571, 23.79556094, 25.26587657, 25.05608704])"
      ]
     },
     "execution_count": 127,
     "metadata": {},
     "output_type": "execute_result"
    }
   ],
   "source": [
    "age "
   ]
  },
  {
   "cell_type": "code",
   "execution_count": 128,
   "metadata": {},
   "outputs": [
    {
     "data": {
      "text/plain": [
       "22.847219791505225"
      ]
     },
     "execution_count": 128,
     "metadata": {},
     "output_type": "execute_result"
    }
   ],
   "source": [
    "np.mean(age)"
   ]
  },
  {
   "cell_type": "code",
   "execution_count": 129,
   "metadata": {},
   "outputs": [
    {
     "data": {
      "text/plain": [
       "30"
      ]
     },
     "execution_count": 129,
     "metadata": {},
     "output_type": "execute_result"
    }
   ],
   "source": [
    "samp = []\n",
    "for val in np.arange(30):\n",
    "    samp.append(np.random.choice(age))\n",
    "len(samp)"
   ]
  },
  {
   "cell_type": "code",
   "execution_count": 130,
   "metadata": {},
   "outputs": [
    {
     "data": {
      "text/plain": [
       "(22.847219791505225, 1.593747849228652)"
      ]
     },
     "execution_count": 130,
     "metadata": {},
     "output_type": "execute_result"
    }
   ],
   "source": [
    "np.mean(age),np.std(age,ddof=1)"
   ]
  },
  {
   "cell_type": "code",
   "execution_count": 131,
   "metadata": {},
   "outputs": [
    {
     "data": {
      "text/plain": [
       "0.2672457749578171"
      ]
     },
     "execution_count": 131,
     "metadata": {},
     "output_type": "execute_result"
    }
   ],
   "source": [
    "#SEM\n",
    "se = 1.4637653934234567/np.sqrt(30)\n",
    "se"
   ]
  },
  {
   "cell_type": "code",
   "execution_count": null,
   "metadata": {},
   "outputs": [],
   "source": [
    "#95%CI range oif estimated mean age of population"
   ]
  },
  {
   "cell_type": "code",
   "execution_count": 133,
   "metadata": {},
   "outputs": [
    {
     "data": {
      "text/plain": [
       "22.323418072587902"
      ]
     },
     "execution_count": 133,
     "metadata": {},
     "output_type": "execute_result"
    }
   ],
   "source": [
    "#Lower Limit\n",
    "22.847219791505225 - 1.96*se"
   ]
  },
  {
   "cell_type": "code",
   "execution_count": 134,
   "metadata": {},
   "outputs": [
    {
     "data": {
      "text/plain": [
       "23.371021510422548"
      ]
     },
     "execution_count": 134,
     "metadata": {},
     "output_type": "execute_result"
    }
   ],
   "source": [
    "#Upper Limit\n",
    "22.847219791505225 + 1.96*se"
   ]
  },
  {
   "cell_type": "code",
   "execution_count": 112,
   "metadata": {},
   "outputs": [],
   "source": [
    "#95%CI range of estimated mean age of population is [22.37 to 23.37]"
   ]
  },
  {
   "cell_type": "code",
   "execution_count": null,
   "metadata": {},
   "outputs": [],
   "source": [
    "#80%CI"
   ]
  },
  {
   "cell_type": "code",
   "execution_count": 135,
   "metadata": {},
   "outputs": [
    {
     "data": {
      "text/plain": [
       "20"
      ]
     },
     "execution_count": 135,
     "metadata": {},
     "output_type": "execute_result"
    }
   ],
   "source": [
    "100-80"
   ]
  },
  {
   "cell_type": "code",
   "execution_count": 136,
   "metadata": {},
   "outputs": [
    {
     "data": {
      "text/plain": [
       "0.2"
      ]
     },
     "execution_count": 136,
     "metadata": {},
     "output_type": "execute_result"
    }
   ],
   "source": [
    "20/100"
   ]
  },
  {
   "cell_type": "code",
   "execution_count": 137,
   "metadata": {},
   "outputs": [
    {
     "data": {
      "text/plain": [
       "0.1"
      ]
     },
     "execution_count": 137,
     "metadata": {},
     "output_type": "execute_result"
    }
   ],
   "source": [
    "0.2/2"
   ]
  },
  {
   "cell_type": "code",
   "execution_count": 138,
   "metadata": {},
   "outputs": [
    {
     "data": {
      "text/plain": [
       "1.28"
      ]
     },
     "execution_count": 138,
     "metadata": {},
     "output_type": "execute_result"
    }
   ],
   "source": [
    "np.abs(round(stats.norm.isf(q = 0.1),2))"
   ]
  },
  {
   "cell_type": "code",
   "execution_count": 139,
   "metadata": {},
   "outputs": [
    {
     "data": {
      "text/plain": [
       "[22.50514519955922, 23.18929438345123]"
      ]
     },
     "execution_count": 139,
     "metadata": {},
     "output_type": "execute_result"
    }
   ],
   "source": [
    "[22.847219791505225-1.28*se,22.847219791505225+1.28*se]"
   ]
  },
  {
   "cell_type": "code",
   "execution_count": null,
   "metadata": {},
   "outputs": [],
   "source": [
    "#Eg: 5.1 courier company"
   ]
  },
  {
   "cell_type": "code",
   "execution_count": null,
   "metadata": {},
   "outputs": [],
   "source": [
    "#n = 50 , y_bar(mean) = 2.8 , sd = 0.6 , find 95% confidence interval"
   ]
  },
  {
   "cell_type": "code",
   "execution_count": 142,
   "metadata": {},
   "outputs": [],
   "source": [
    "y_bar , s , n = 2.8 , 0.6 , 50"
   ]
  },
  {
   "cell_type": "code",
   "execution_count": 143,
   "metadata": {},
   "outputs": [],
   "source": [
    "se = 2.8/np.sqrt(50)"
   ]
  },
  {
   "cell_type": "code",
   "execution_count": 144,
   "metadata": {},
   "outputs": [
    {
     "data": {
      "text/plain": [
       "[2.0238795969696453, 3.5761204030303544]"
      ]
     },
     "execution_count": 144,
     "metadata": {},
     "output_type": "execute_result"
    }
   ],
   "source": [
    "[y_bar-1.96*se,y_bar+1.96*se]"
   ]
  },
  {
   "cell_type": "code",
   "execution_count": null,
   "metadata": {},
   "outputs": [],
   "source": [
    "#Inference\n",
    "# the courier comapny deluvery time lies between 95%CI of range[2.023 to 3.576]"
   ]
  },
  {
   "cell_type": "markdown",
   "metadata": {},
   "source": [
    "## Estimate The CI for categorical(proportion data)"
   ]
  },
  {
   "cell_type": "code",
   "execution_count": null,
   "metadata": {},
   "outputs": [],
   "source": [
    "#joe biden prob"
   ]
  },
  {
   "cell_type": "code",
   "execution_count": 145,
   "metadata": {},
   "outputs": [
    {
     "data": {
      "text/plain": [
       "[0.506064, 0.6299359999999999]"
      ]
     },
     "execution_count": 145,
     "metadata": {},
     "output_type": "execute_result"
    }
   ],
   "source": [
    "[0.568-1.96*0.0316 , 0.568+1.96*0.0316]"
   ]
  },
  {
   "cell_type": "code",
   "execution_count": null,
   "metadata": {},
   "outputs": [],
   "source": [
    "#medical pharmacy prob"
   ]
  },
  {
   "cell_type": "code",
   "execution_count": 146,
   "metadata": {},
   "outputs": [],
   "source": [
    "n = 200\n",
    "x_bar = 140/200\n",
    "q     = 1 - x_bar\n",
    "#q = 60/200"
   ]
  },
  {
   "cell_type": "code",
   "execution_count": 147,
   "metadata": {},
   "outputs": [
    {
     "data": {
      "text/plain": [
       "(200, 0.7, 0.3)"
      ]
     },
     "execution_count": 147,
     "metadata": {},
     "output_type": "execute_result"
    }
   ],
   "source": [
    "n,x_bar,q"
   ]
  },
  {
   "cell_type": "code",
   "execution_count": 154,
   "metadata": {},
   "outputs": [
    {
     "data": {
      "text/plain": [
       "0.4594075275633928"
      ]
     },
     "execution_count": 154,
     "metadata": {},
     "output_type": "execute_result"
    }
   ],
   "source": [
    "#std\n",
    "std = np.sqrt(((140*(1-0.7)**2)+(60*(0-0.7)**2))/(200-1))\n",
    "std"
   ]
  },
  {
   "cell_type": "code",
   "execution_count": 155,
   "metadata": {},
   "outputs": [
    {
     "data": {
      "text/plain": [
       "0.03245620125646253"
      ]
     },
     "execution_count": 155,
     "metadata": {},
     "output_type": "execute_result"
    }
   ],
   "source": [
    "SE = 0.459/np.sqrt(200)\n",
    "SE"
   ]
  },
  {
   "cell_type": "code",
   "execution_count": 156,
   "metadata": {},
   "outputs": [
    {
     "data": {
      "text/plain": [
       "[0.6363858455373335, 0.7636141544626665]"
      ]
     },
     "execution_count": 156,
     "metadata": {},
     "output_type": "execute_result"
    }
   ],
   "source": [
    "[0.7-1.96*SE,0.7+1.96*SE]"
   ]
  },
  {
   "cell_type": "code",
   "execution_count": 157,
   "metadata": {},
   "outputs": [
    {
     "name": "stdout",
     "output_type": "stream",
     "text": [
      "95% Confidence interval for population mean is 0.6365 to 0.7635\n"
     ]
    }
   ],
   "source": [
    "#one liner interval\n",
    "n = 200\n",
    "n_success = 140\n",
    "a = 0.05     # to tell 95% Confidence interval\n",
    "#nobs = no of observations\n",
    "#alpha tells to multiply by 1.96 for 95% CI\n",
    "LCI,UCI = SMP.proportion_confint(count = n_success , nobs = n , alpha = a , method = \"normal\")\n",
    "print(\"95% Confidence interval for population mean is {0:1.4f} to {1:1.4f}\".format(LCI,UCI))"
   ]
  },
  {
   "cell_type": "code",
   "execution_count": null,
   "metadata": {},
   "outputs": [],
   "source": []
  },
  {
   "cell_type": "code",
   "execution_count": null,
   "metadata": {},
   "outputs": [],
   "source": []
  },
  {
   "cell_type": "code",
   "execution_count": null,
   "metadata": {},
   "outputs": [],
   "source": []
  },
  {
   "cell_type": "code",
   "execution_count": null,
   "metadata": {},
   "outputs": [],
   "source": []
  },
  {
   "cell_type": "code",
   "execution_count": null,
   "metadata": {},
   "outputs": [],
   "source": []
  },
  {
   "cell_type": "code",
   "execution_count": null,
   "metadata": {},
   "outputs": [],
   "source": []
  },
  {
   "cell_type": "code",
   "execution_count": null,
   "metadata": {},
   "outputs": [],
   "source": []
  },
  {
   "cell_type": "code",
   "execution_count": null,
   "metadata": {},
   "outputs": [],
   "source": []
  },
  {
   "cell_type": "code",
   "execution_count": null,
   "metadata": {},
   "outputs": [],
   "source": []
  },
  {
   "cell_type": "code",
   "execution_count": null,
   "metadata": {},
   "outputs": [],
   "source": []
  },
  {
   "cell_type": "code",
   "execution_count": null,
   "metadata": {},
   "outputs": [],
   "source": []
  },
  {
   "cell_type": "code",
   "execution_count": null,
   "metadata": {},
   "outputs": [],
   "source": []
  },
  {
   "cell_type": "code",
   "execution_count": null,
   "metadata": {},
   "outputs": [],
   "source": []
  },
  {
   "cell_type": "code",
   "execution_count": null,
   "metadata": {},
   "outputs": [],
   "source": []
  },
  {
   "cell_type": "code",
   "execution_count": null,
   "metadata": {},
   "outputs": [],
   "source": []
  },
  {
   "cell_type": "code",
   "execution_count": null,
   "metadata": {},
   "outputs": [],
   "source": []
  },
  {
   "cell_type": "code",
   "execution_count": null,
   "metadata": {},
   "outputs": [],
   "source": []
  },
  {
   "cell_type": "code",
   "execution_count": null,
   "metadata": {},
   "outputs": [],
   "source": []
  },
  {
   "cell_type": "code",
   "execution_count": null,
   "metadata": {},
   "outputs": [],
   "source": []
  },
  {
   "cell_type": "code",
   "execution_count": null,
   "metadata": {},
   "outputs": [],
   "source": []
  },
  {
   "cell_type": "code",
   "execution_count": null,
   "metadata": {},
   "outputs": [],
   "source": []
  },
  {
   "cell_type": "code",
   "execution_count": null,
   "metadata": {},
   "outputs": [],
   "source": []
  },
  {
   "cell_type": "code",
   "execution_count": null,
   "metadata": {},
   "outputs": [],
   "source": []
  },
  {
   "cell_type": "code",
   "execution_count": null,
   "metadata": {},
   "outputs": [],
   "source": []
  },
  {
   "cell_type": "code",
   "execution_count": null,
   "metadata": {},
   "outputs": [],
   "source": []
  }
 ],
 "metadata": {
  "kernelspec": {
   "display_name": "Python 3",
   "language": "python",
   "name": "python3"
  },
  "language_info": {
   "codemirror_mode": {
    "name": "ipython",
    "version": 3
   },
   "file_extension": ".py",
   "mimetype": "text/x-python",
   "name": "python",
   "nbconvert_exporter": "python",
   "pygments_lexer": "ipython3",
   "version": "3.8.5"
  }
 },
 "nbformat": 4,
 "nbformat_minor": 4
}
