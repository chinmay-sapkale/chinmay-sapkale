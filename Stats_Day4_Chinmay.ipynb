{
 "cells": [
  {
   "cell_type": "code",
   "execution_count": 1,
   "metadata": {},
   "outputs": [],
   "source": [
    "import   scipy.stats                      as     stats\n",
    "import   statsmodels.stats.proportion     as     SMP\n",
    "import   numpy                            as     np\n",
    "import   pandas                           as     pd\n",
    "import   matplotlib.pyplot                as     plt\n",
    "import   seaborn                          as     sns\n",
    "from     IPython.display                  import Image\n",
    "import   statistics"
   ]
  },
  {
   "cell_type": "markdown",
   "metadata": {},
   "source": [
    "Perform one-sample t-Test , to check the courier company claim is True/False"
   ]
  },
  {
   "cell_type": "code",
   "execution_count": 16,
   "metadata": {},
   "outputs": [
    {
     "name": "stdout",
     "output_type": "stream",
     "text": [
      "[-2.9761519570122705, 0.002262088618125144]\n"
     ]
    }
   ],
   "source": [
    "tstat , p_val = stats.ttest_1samp(s,3)    #ttest_1samp is for 2 sided\n",
    "print([tstat,p_val/2])"
   ]
  },
  {
   "cell_type": "code",
   "execution_count": null,
   "metadata": {},
   "outputs": [],
   "source": [
    "#Inference\n",
    "#tstat is greater than -1.64 \n",
    "#Pval > 0.005\n",
    "#so we can conclude that H0 is strongly rejected and Ha is accepted\n",
    "\n",
    "#MA Inference\n",
    "#Pval 0.002262 < 0.05, we can reject H0 , thereby we accept Ha\n",
    "#i.e we conclude that courier company's claim is true"
   ]
  },
  {
   "cell_type": "markdown",
   "metadata": {},
   "source": [
    "COURIER COMPANY EXAMPLE\n",
    "\n",
    "A courier company claims that , their  mean delivery time to any part of new york is less \n",
    "\n",
    "than 3 hours. Generate sample using randn fucntion with mean delivery time 2.735hrs with standard \n",
    "\n",
    "deviation = 0.629 hrs\n"
   ]
  },
  {
   "cell_type": "code",
   "execution_count": null,
   "metadata": {},
   "outputs": [],
   "source": [
    "#Frame hypothesis problem statement\n",
    "#Alternate Hypothesis: Ha : mu < 3hrs\n",
    "#Null Hypothesis:      H0 : Mu >= 3hrs"
   ]
  },
  {
   "cell_type": "code",
   "execution_count": 11,
   "metadata": {},
   "outputs": [
    {
     "data": {
      "text/plain": [
       "2.7352442748285073"
      ]
     },
     "execution_count": 11,
     "metadata": {},
     "output_type": "execute_result"
    }
   ],
   "source": [
    "samples = np.random.randn(50)\n",
    "s   = (samples*0.629)+2.735\n",
    "np.mean(s)"
   ]
  },
  {
   "cell_type": "code",
   "execution_count": 12,
   "metadata": {},
   "outputs": [
    {
     "data": {
      "text/plain": [
       "0.6290356518444147"
      ]
     },
     "execution_count": 12,
     "metadata": {},
     "output_type": "execute_result"
    }
   ],
   "source": [
    "np.std(s, ddof = 1)"
   ]
  },
  {
   "cell_type": "code",
   "execution_count": 15,
   "metadata": {},
   "outputs": [
    {
     "data": {
      "text/plain": [
       "-2.9790667251897487"
      ]
     },
     "execution_count": 15,
     "metadata": {},
     "output_type": "execute_result"
    }
   ],
   "source": [
    "#tstat ==> cutoff\n",
    "tstat = (2.735 - 3)/(0.629/np.sqrt(50))\n",
    "tstat"
   ]
  },
  {
   "cell_type": "markdown",
   "metadata": {},
   "source": [
    "SOYABEAN YIELD PROBLEM\n",
    "\n",
    "Texas  A and M Agriculture Agency  claim that their mean yield of soyabean when compared to \n",
    "\n",
    "previous year, is increased to 520kg/per acre. Set up all the parts of a stastical test for the \n",
    "\n",
    "soyabean example and use the sample data to reach a destination on whether to accept or reject \n",
    "\n",
    "the null hypothesis.\n",
    "\n",
    "Generate random samples using randn with the mean yiled = 5kg/acre with SD of 124\n",
    "\n",
    "We have generated 36 samples with mean = 564.917 , SD = 120.073"
   ]
  },
  {
   "cell_type": "code",
   "execution_count": null,
   "metadata": {},
   "outputs": [],
   "source": [
    "#hypothesis\n",
    "#Alternate hypothesis: Ha : mu > 520\n",
    "#Null hypothesis     : H0 : mu <= 520"
   ]
  },
  {
   "cell_type": "code",
   "execution_count": 267,
   "metadata": {},
   "outputs": [
    {
     "data": {
      "text/plain": [
       "564.9173730803716"
      ]
     },
     "execution_count": 267,
     "metadata": {},
     "output_type": "execute_result"
    }
   ],
   "source": [
    "#First step simulate the samples , where no of samples is 36\n",
    "samples2 = np.random.randn(36)\n",
    "s2 = (samples2*124)+573\n",
    "np.mean(s2)"
   ]
  },
  {
   "cell_type": "code",
   "execution_count": 268,
   "metadata": {},
   "outputs": [
    {
     "data": {
      "text/plain": [
       "120.07323405118346"
      ]
     },
     "execution_count": 268,
     "metadata": {},
     "output_type": "execute_result"
    }
   ],
   "source": [
    "np.std(s2,ddof=1)"
   ]
  },
  {
   "cell_type": "code",
   "execution_count": 270,
   "metadata": {},
   "outputs": [
    {
     "data": {
      "text/plain": [
       "2.24449959607905"
      ]
     },
     "execution_count": 270,
     "metadata": {},
     "output_type": "execute_result"
    }
   ],
   "source": [
    "#Manually computing tstat value\n",
    "tstat = (564.9173 - 520)/(120.073/np.sqrt(36))\n",
    "tstat"
   ]
  },
  {
   "cell_type": "code",
   "execution_count": 272,
   "metadata": {},
   "outputs": [],
   "source": [
    "#calculate by using python 1 liner function\n",
    "tstat , p_val = stats.ttest_1samp(s2,520)"
   ]
  },
  {
   "cell_type": "code",
   "execution_count": 274,
   "metadata": {},
   "outputs": [
    {
     "data": {
      "text/plain": [
       "(2.244498872807476, 0.015611690019169426)"
      ]
     },
     "execution_count": 274,
     "metadata": {},
     "output_type": "execute_result"
    }
   ],
   "source": [
    "tstat , p_val/2 "
   ]
  },
  {
   "cell_type": "code",
   "execution_count": null,
   "metadata": {},
   "outputs": [],
   "source": [
    "#inference\n",
    "#Prob of H0 being True is very negligible i.e. 0.01. Hence we reject H0. Agency claim is true\n",
    "#[for 5% error , p-val should be less than 0.05, to reject H0]"
   ]
  },
  {
   "cell_type": "markdown",
   "metadata": {},
   "source": [
    "## Two Tailed t test"
   ]
  },
  {
   "cell_type": "code",
   "execution_count": 275,
   "metadata": {},
   "outputs": [],
   "source": [
    "age = np.random.uniform(low = 20 , high = 27 , size = 64)"
   ]
  },
  {
   "cell_type": "code",
   "execution_count": 276,
   "metadata": {},
   "outputs": [
    {
     "data": {
      "text/plain": [
       "array([20.89665239, 24.48869537, 26.11262171, 26.469504  , 23.45569071,\n",
       "       25.8578699 , 24.13491109, 20.29468569, 21.263606  , 25.67654033,\n",
       "       20.26633156, 22.3423518 , 25.36490823, 24.5254559 , 26.6972558 ,\n",
       "       21.64454052, 26.83310425, 26.94090939, 24.23298464, 23.92815604,\n",
       "       22.89630571, 24.15678577, 26.78299689, 26.47562298, 22.43838138,\n",
       "       23.12573506, 21.64501331, 21.63129949, 25.1935305 , 24.07988449,\n",
       "       24.34826067, 25.09577435, 26.51808835, 20.51425288, 20.74597776,\n",
       "       25.88531753, 24.88751024, 20.34618727, 21.00656365, 20.48654789,\n",
       "       26.0498443 , 26.23001399, 21.73017734, 25.57874014, 20.74887263,\n",
       "       21.2060147 , 22.27491011, 25.34630002, 21.20665494, 23.6802033 ,\n",
       "       22.29666421, 23.69362961, 21.65212483, 21.76400682, 25.92593334,\n",
       "       22.03653899, 23.62550258, 23.0571968 , 24.66731887, 21.49874049,\n",
       "       26.88899371, 20.4538092 , 24.32290894, 20.96408117])"
      ]
     },
     "execution_count": 276,
     "metadata": {},
     "output_type": "execute_result"
    }
   ],
   "source": [
    "age"
   ]
  },
  {
   "cell_type": "code",
   "execution_count": 277,
   "metadata": {},
   "outputs": [
    {
     "data": {
      "text/plain": [
       "64"
      ]
     },
     "execution_count": 277,
     "metadata": {},
     "output_type": "execute_result"
    }
   ],
   "source": [
    "len(age)"
   ]
  },
  {
   "cell_type": "code",
   "execution_count": 278,
   "metadata": {},
   "outputs": [
    {
     "data": {
      "text/plain": [
       "23.540406133267112"
      ]
     },
     "execution_count": 278,
     "metadata": {},
     "output_type": "execute_result"
    }
   ],
   "source": [
    "np.mean(age)"
   ]
  },
  {
   "cell_type": "code",
   "execution_count": 283,
   "metadata": {},
   "outputs": [],
   "source": [
    "#randomly take 30 samples\n",
    "sample_age = age[:30]"
   ]
  },
  {
   "cell_type": "code",
   "execution_count": 284,
   "metadata": {},
   "outputs": [
    {
     "data": {
      "text/plain": [
       "23.99507769738161"
      ]
     },
     "execution_count": 284,
     "metadata": {},
     "output_type": "execute_result"
    }
   ],
   "source": [
    "#check the sample mean\n",
    "np.mean(sample_age)"
   ]
  },
  {
   "cell_type": "code",
   "execution_count": null,
   "metadata": {},
   "outputs": [],
   "source": [
    "#Null Hypothesis:        H0 : mu  = 26 years\n",
    "#Alternate Hypothesis :  Ha : mu != 26 years"
   ]
  },
  {
   "cell_type": "code",
   "execution_count": 285,
   "metadata": {},
   "outputs": [
    {
     "data": {
      "text/plain": [
       "Ttest_1sampResult(statistic=-5.236883387166662, pvalue=1.3131453149475766e-05)"
      ]
     },
     "execution_count": 285,
     "metadata": {},
     "output_type": "execute_result"
    }
   ],
   "source": [
    "stats.ttest_1samp(sample_age , 26 )"
   ]
  },
  {
   "cell_type": "code",
   "execution_count": null,
   "metadata": {},
   "outputs": [],
   "source": [
    "#inference: \n",
    "# For 26 years sample does not represent the population, p_val < 0.05 we reject H0"
   ]
  },
  {
   "cell_type": "markdown",
   "metadata": {},
   "source": [
    "Problem 2 for two tailed\n",
    "\n",
    "You are given the  daily sugar intake of 11  diabetic patients in the following python code\n",
    "\n",
    "Is there  any evidence to the claim  that the average daily sugar intake of diabetic patients\n",
    "\n",
    "is 7600 mg."
   ]
  },
  {
   "cell_type": "code",
   "execution_count": 286,
   "metadata": {},
   "outputs": [],
   "source": [
    "#Daily intake of sugar in milligrams for 11 diabetic  patients\n",
    "daily_intake = np.array([5560,5770,7640,5180,5690,6435,6803,7689,6876,8213,8765]) "
   ]
  },
  {
   "cell_type": "code",
   "execution_count": 287,
   "metadata": {},
   "outputs": [
    {
     "data": {
      "text/plain": [
       "array([5560, 5770, 7640, 5180, 5690, 6435, 6803, 7689, 6876, 8213, 8765])"
      ]
     },
     "execution_count": 287,
     "metadata": {},
     "output_type": "execute_result"
    }
   ],
   "source": [
    "daily_intake"
   ]
  },
  {
   "cell_type": "code",
   "execution_count": null,
   "metadata": {},
   "outputs": [],
   "source": [
    "#Null Hypothesis:      H0 :  mu = 7600\n",
    "#ALternate Hypothesis: Ha :  mu != 7600 "
   ]
  },
  {
   "cell_type": "code",
   "execution_count": 288,
   "metadata": {},
   "outputs": [
    {
     "data": {
      "text/plain": [
       "Ttest_1sampResult(statistic=-2.2925841964555027, pvalue=0.04481624562570511)"
      ]
     },
     "execution_count": 288,
     "metadata": {},
     "output_type": "execute_result"
    }
   ],
   "source": [
    "stats.ttest_1samp( daily_intake , 7600)"
   ]
  },
  {
   "cell_type": "code",
   "execution_count": null,
   "metadata": {},
   "outputs": [],
   "source": [
    "#Inference\n",
    "#pvalue = 0.04\n",
    "#As pvalue < 0.05 we reject H0( mu = 7600), which implies there is no evidence for the \n",
    "#claim(avg daily sugar intake is not equal to 7600)"
   ]
  },
  {
   "cell_type": "code",
   "execution_count": 289,
   "metadata": {},
   "outputs": [
    {
     "data": {
      "text/plain": [
       "Ttest_1sampResult(statistic=-0.6074237446672944, pvalue=0.5571104198676538)"
      ]
     },
     "execution_count": 289,
     "metadata": {},
     "output_type": "execute_result"
    }
   ],
   "source": [
    "#for curiousity we want to verify for this\n",
    "stats.ttest_1samp( daily_intake , 7000)\n",
    "#"
   ]
  },
  {
   "cell_type": "code",
   "execution_count": null,
   "metadata": {},
   "outputs": [],
   "source": []
  },
  {
   "cell_type": "code",
   "execution_count": null,
   "metadata": {},
   "outputs": [],
   "source": []
  },
  {
   "cell_type": "code",
   "execution_count": null,
   "metadata": {},
   "outputs": [],
   "source": []
  }
 ],
 "metadata": {
  "kernelspec": {
   "display_name": "Python 3",
   "language": "python",
   "name": "python3"
  },
  "language_info": {
   "codemirror_mode": {
    "name": "ipython",
    "version": 3
   },
   "file_extension": ".py",
   "mimetype": "text/x-python",
   "name": "python",
   "nbconvert_exporter": "python",
   "pygments_lexer": "ipython3",
   "version": "3.8.5"
  }
 },
 "nbformat": 4,
 "nbformat_minor": 4
}
