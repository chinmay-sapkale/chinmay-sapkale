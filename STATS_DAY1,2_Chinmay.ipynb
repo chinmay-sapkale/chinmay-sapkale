{
 "cells": [
  {
   "cell_type": "markdown",
   "metadata": {},
   "source": [
    "# Import required libraries"
   ]
  },
  {
   "cell_type": "code",
   "execution_count": 1,
   "metadata": {},
   "outputs": [],
   "source": [
    "import   scipy.stats                      as     stats\n",
    "import   statsmodels.stats.proportion     as     SMP\n",
    "import   numpy                            as     np\n",
    "import   pandas                           as     pd\n",
    "import   matplotlib.pyplot                as     plt\n",
    "import   seaborn                          as     sns\n",
    "from     IPython.display                  import Image\n",
    "import   statistics"
   ]
  },
  {
   "cell_type": "markdown",
   "metadata": {},
   "source": [
    "# Recap of EDA"
   ]
  },
  {
   "cell_type": "code",
   "execution_count": 3,
   "metadata": {},
   "outputs": [],
   "source": [
    "#Enter 3 player score\n",
    "p1 = np.array([20,18,25,14,8])\n",
    "p2 = np.array([100,8,25,40,12])\n",
    "p3 = np.array([65,52,48,38,63])"
   ]
  },
  {
   "cell_type": "code",
   "execution_count": 4,
   "metadata": {},
   "outputs": [
    {
     "name": "stdout",
     "output_type": "stream",
     "text": [
      "Average of Player 1: 17.0 Standard Deviation of Player 1: 6.4031242374328485\n",
      "Average of Player 2: 37.0 Standard Deviation of Player 2: 37.376463182061514\n",
      "Average of Player 3: 53.2 Standard Deviation of Player 1: 11.122050170719424\n"
     ]
    }
   ],
   "source": [
    "#ddof read the docstring and refer nb ,we want division by n-1 so ddof =1\n",
    "print(\"Average of Player 1:\",np.mean(p1),\"Standard Deviation of Player 1:\",np.std(p1,ddof = 1))\n",
    "print(\"Average of Player 2:\",np.mean(p2),\"Standard Deviation of Player 2:\",np.std(p2,ddof = 1))\n",
    "print(\"Average of Player 3:\",np.mean(p3),\"Standard Deviation of Player 1:\",np.std(p3,ddof = 1))"
   ]
  },
  {
   "cell_type": "code",
   "execution_count": null,
   "metadata": {},
   "outputs": [],
   "source": [
    "#Inference \n",
    "#Lesser the standard devaition more the consistency\n",
    "#We need to take the decision whether the consistency is poor or rich\n",
    "#Player 1 is performing consistently poor "
   ]
  },
  {
   "cell_type": "code",
   "execution_count": null,
   "metadata": {},
   "outputs": [],
   "source": [
    "#TO find out the consistency\n",
    "#The appropriate parameter is Coefficient of varaince (CV)\n",
    "#Formula : CV  =  standard deviation/mod of mean\n",
    "#          CV% =  (standard deviation/mod of mean)*100"
   ]
  },
  {
   "cell_type": "code",
   "execution_count": 7,
   "metadata": {},
   "outputs": [],
   "source": [
    "#calculating the CV of all the players\n",
    "cv_p1 = 6.40/17.0\n",
    "cv_p2 = 37.37/37.0\n",
    "cv_p3 = 53.2/11.12"
   ]
  },
  {
   "cell_type": "code",
   "execution_count": 9,
   "metadata": {},
   "outputs": [
    {
     "name": "stdout",
     "output_type": "stream",
     "text": [
      "Percentage Coefficient of Variance for player 1:  37.64705882352941\n",
      "Percentage Coefficient of Variance for player 2:  101.0\n",
      "Percentage Coefficient of Variance for player 3:  478.4172661870504\n"
     ]
    }
   ],
   "source": [
    "print(\"Percentage Coefficient of Variance for player 1: \",cv_p1*100)\n",
    "print(\"Percentage Coefficient of Variance for player 2: \",cv_p2*100)\n",
    "print(\"Percentage Coefficient of Variance for player 3: \",cv_p3*100)"
   ]
  },
  {
   "cell_type": "code",
   "execution_count": null,
   "metadata": {},
   "outputs": [],
   "source": [
    "#Inference\n",
    "#higher the percentage more fluctuating is the performance of the player(more risker the player is)\n"
   ]
  },
  {
   "cell_type": "markdown",
   "metadata": {},
   "source": [
    "# Binomial Distribution"
   ]
  },
  {
   "cell_type": "code",
   "execution_count": 29,
   "metadata": {},
   "outputs": [],
   "source": [
    "#LED BULB PROBLEM\n",
    "p = 0.05       # Failure rate for LED light bulbs that the company manufactures is 5%\n",
    "n = 10         #sample size or trials\n",
    "x = np.arange(0,n)"
   ]
  },
  {
   "cell_type": "code",
   "execution_count": 30,
   "metadata": {},
   "outputs": [
    {
     "data": {
      "text/plain": [
       "array([0, 1, 2, 3, 4, 5, 6, 7, 8, 9])"
      ]
     },
     "execution_count": 30,
     "metadata": {},
     "output_type": "execute_result"
    }
   ],
   "source": [
    "x"
   ]
  },
  {
   "cell_type": "code",
   "execution_count": 31,
   "metadata": {},
   "outputs": [],
   "source": [
    "binomial = stats.binom.pmf(x,n,p)"
   ]
  },
  {
   "cell_type": "code",
   "execution_count": 32,
   "metadata": {},
   "outputs": [
    {
     "data": {
      "text/plain": [
       "array([5.98736939e-01, 3.15124705e-01, 7.46347985e-02, 1.04750594e-02,\n",
       "       9.64808106e-04, 6.09352488e-05, 2.67259863e-06, 8.03789063e-08,\n",
       "       1.58642578e-09, 1.85546875e-11])"
      ]
     },
     "execution_count": 32,
     "metadata": {},
     "output_type": "execute_result"
    }
   ],
   "source": [
    "binomial"
   ]
  },
  {
   "cell_type": "code",
   "execution_count": null,
   "metadata": {},
   "outputs": [],
   "source": [
    "#binomial[10] indicates that probability that all bulbs are defective is almost 0\n",
    "#because historical data tell 95% of bulbs are good bulbs"
   ]
  },
  {
   "cell_type": "code",
   "execution_count": 33,
   "metadata": {},
   "outputs": [
    {
     "name": "stdout",
     "output_type": "stream",
     "text": [
      "Probaility that none of LED BULBS are defective: 0.5987369392383789\n"
     ]
    }
   ],
   "source": [
    "#a) None of the LED BULBS are defective\n",
    "print(\"Probaility that none of LED BULBS are defective:\",binomial[0])"
   ]
  },
  {
   "cell_type": "code",
   "execution_count": 34,
   "metadata": {},
   "outputs": [
    {
     "name": "stdout",
     "output_type": "stream",
     "text": [
      "Probability that exactly 1 Bulb is defective: 0.31512470486230504\n"
     ]
    }
   ],
   "source": [
    "#b) Exactly 1 of the LED Bulb is defective\n",
    "print(\"Probability that exactly 1 Bulb is defective:\",binomial[1])"
   ]
  },
  {
   "cell_type": "code",
   "execution_count": 35,
   "metadata": {},
   "outputs": [
    {
     "name": "stdout",
     "output_type": "stream",
     "text": [
      "Probaility that 2 or fewer bulb are defective: 0.9884964426207035\n"
     ]
    }
   ],
   "source": [
    "#c)2 or fewer bulb are defective  #p(X<=2)\n",
    "print(\"Probaility that 2 or fewer bulb are defective:\",binomial[0]+binomial[1]+binomial[2])\n"
   ]
  },
  {
   "cell_type": "code",
   "execution_count": 36,
   "metadata": {},
   "outputs": [],
   "source": [
    "#solution 2: use cumulative density function\n",
    "cumbinomail = stats.binom.cdf(x,n,p)"
   ]
  },
  {
   "cell_type": "code",
   "execution_count": 37,
   "metadata": {},
   "outputs": [
    {
     "data": {
      "text/plain": [
       "array([0.59873694, 0.91386164, 0.98849644, 0.9989715 , 0.99993631,\n",
       "       0.99999725, 0.99999992, 1.        , 1.        , 1.        ])"
      ]
     },
     "execution_count": 37,
     "metadata": {},
     "output_type": "execute_result"
    }
   ],
   "source": [
    "cumbinomail"
   ]
  },
  {
   "cell_type": "code",
   "execution_count": 24,
   "metadata": {},
   "outputs": [
    {
     "name": "stdout",
     "output_type": "stream",
     "text": [
      "Probaility that 2 or fewer bulb are defective: 0.9884964426207031\n"
     ]
    }
   ],
   "source": [
    "print(\"Probaility that 2 or fewer bulb are defective:\",cumbinomail[2])"
   ]
  },
  {
   "cell_type": "code",
   "execution_count": 25,
   "metadata": {},
   "outputs": [
    {
     "name": "stdout",
     "output_type": "stream",
     "text": [
      "Probability that 3 or more bulbs are defective: 0.01150355737929687\n"
     ]
    }
   ],
   "source": [
    "#d) Three or more LED bulbs are defective P(X >= 3)\n",
    "#P(X >= 3) = 1 - P(X < 3)\n",
    "d3_more = 1 - cumbinomail[2]    #cumbinomail[2]  = P(X=0)+P(X=1)+P(X=2)\n",
    "print(\"Probability that 3 or more bulbs are defective:\" , d3_more)"
   ]
  },
  {
   "cell_type": "code",
   "execution_count": 26,
   "metadata": {},
   "outputs": [
    {
     "data": {
      "image/png": "[encoded data removed]",
      "text/plain": [
       "<Figure size 432x288 with 1 Axes>"
      ]
     },
     "metadata": {
      "needs_background": "light"
     },
     "output_type": "display_data"
    }
   ],
   "source": [
    "#Binomial distribution plot\n",
    "plt.plot(x,binomial,\"o-\")\n",
    "plt.title(\"Binomial\")\n",
    "plt.xlabel(\"Number of defective LED Bulbs\")\n",
    "plt.ylabel(\"Prob of Defective LED bulbs\")\n",
    "plt.show()"
   ]
  },
  {
   "cell_type": "code",
   "execution_count": null,
   "metadata": {},
   "outputs": [],
   "source": [
    "#Probability of all bulbs being defectful is 0 P(X = 10)"
   ]
  },
  {
   "cell_type": "code",
   "execution_count": 27,
   "metadata": {},
   "outputs": [
    {
     "data": {
      "text/plain": [
       "0.5987369392383789"
      ]
     },
     "execution_count": 27,
     "metadata": {},
     "output_type": "execute_result"
    }
   ],
   "source": [
    "#highest point\n",
    "np.max(binomial)"
   ]
  },
  {
   "cell_type": "code",
   "execution_count": 28,
   "metadata": {},
   "outputs": [
    {
     "data": {
      "text/plain": [
       "0"
      ]
     },
     "execution_count": 28,
     "metadata": {},
     "output_type": "execute_result"
    }
   ],
   "source": [
    "#index of highest point\n",
    "#probaility of none of the bulb being defective\n",
    "np.argmax(binomial)"
   ]
  },
  {
   "cell_type": "markdown",
   "metadata": {},
   "source": [
    "# Day2\n"
   ]
  },
  {
   "cell_type": "code",
   "execution_count": null,
   "metadata": {},
   "outputs": [],
   "source": [
    "#bank problem nb(bank loan defaulter example)"
   ]
  },
  {
   "cell_type": "code",
   "execution_count": 15,
   "metadata": {},
   "outputs": [],
   "source": [
    "p = 0.6    #customers paying EMI on time\n",
    "n = 7      #sample size or trials\n",
    "x = np.arange(0,n)"
   ]
  },
  {
   "cell_type": "code",
   "execution_count": 16,
   "metadata": {},
   "outputs": [],
   "source": [
    "bank_binom = stats.binom.pmf(x,n,p)"
   ]
  },
  {
   "cell_type": "code",
   "execution_count": 17,
   "metadata": {},
   "outputs": [
    {
     "data": {
      "text/plain": [
       "array([0.0016384, 0.0172032, 0.0774144, 0.193536 , 0.290304 , 0.2612736,\n",
       "       0.1306368])"
      ]
     },
     "execution_count": 17,
     "metadata": {},
     "output_type": "execute_result"
    }
   ],
   "source": [
    "bank_binom"
   ]
  },
  {
   "cell_type": "code",
   "execution_count": 20,
   "metadata": {},
   "outputs": [
    {
     "data": {
      "text/plain": [
       "7"
      ]
     },
     "execution_count": 20,
     "metadata": {},
     "output_type": "execute_result"
    }
   ],
   "source": [
    "len(bank_binom)"
   ]
  },
  {
   "cell_type": "code",
   "execution_count": 19,
   "metadata": {},
   "outputs": [
    {
     "data": {
      "text/plain": [
       "4"
      ]
     },
     "execution_count": 19,
     "metadata": {},
     "output_type": "execute_result"
    }
   ],
   "source": [
    "#np.argmax() will return the index of the highest element\n",
    "np.argmax(bank_binom)"
   ]
  },
  {
   "cell_type": "code",
   "execution_count": 18,
   "metadata": {},
   "outputs": [
    {
     "data": {
      "text/plain": [
       "0.2903040000000001"
      ]
     },
     "execution_count": 18,
     "metadata": {},
     "output_type": "execute_result"
    }
   ],
   "source": [
    "#np.max() will return the max value in the array\n",
    "np.max(bank_binom)"
   ]
  },
  {
   "cell_type": "code",
   "execution_count": null,
   "metadata": {},
   "outputs": [],
   "source": [
    "#Inference probability that 4 customers on time has highest probability"
   ]
  },
  {
   "cell_type": "code",
   "execution_count": 21,
   "metadata": {},
   "outputs": [
    {
     "data": {
      "text/plain": [
       "[<matplotlib.lines.Line2D at 0x2034c0a9160>]"
      ]
     },
     "execution_count": 21,
     "metadata": {},
     "output_type": "execute_result"
    },
    {
     "data": {
      "image/png": "[encoded data removed]",
      "text/plain": [
       "<Figure size 432x288 with 1 Axes>"
      ]
     },
     "metadata": {
      "needs_background": "light"
     },
     "output_type": "display_data"
    }
   ],
   "source": [
    "#graphical representation\n",
    "#at 4 we have got max probab that is 29%\n",
    "plt.plot(x,bank_binom,\"o-\")"
   ]
  },
  {
   "cell_type": "code",
   "execution_count": 22,
   "metadata": {},
   "outputs": [
    {
     "name": "stdout",
     "output_type": "stream",
     "text": [
      "MEAN OF BINOMIAL DISTRIBUTION 4.2\n"
     ]
    }
   ],
   "source": [
    "#Logical calculation\n",
    "#Mean calculation\n",
    "#60% of 7 cust\n",
    "#Mean of binomial distribution = n*p\n",
    "mu = 0.60*7\n",
    "print(\"MEAN OF BINOMIAL DISTRIBUTION\",mu)"
   ]
  },
  {
   "cell_type": "code",
   "execution_count": 23,
   "metadata": {},
   "outputs": [
    {
     "name": "stdout",
     "output_type": "stream",
     "text": [
      "STANDARD DEVIATION OF BINOMIAL DISTRIBUTION: 1.2961481396815722\n"
     ]
    }
   ],
   "source": [
    "#standard deviation of binomial distribution = sqrt(n*p*(1-p))\n",
    "sd = np.sqrt(7*0.60*0.40)\n",
    "print(\"STANDARD DEVIATION OF BINOMIAL DISTRIBUTION:\",sd)"
   ]
  },
  {
   "cell_type": "code",
   "execution_count": 24,
   "metadata": {},
   "outputs": [
    {
     "name": "stdout",
     "output_type": "stream",
     "text": [
      "LOWER LIMIT: 2.91 UPPER_LIMIT: 5.49\n"
     ]
    }
   ],
   "source": [
    "#using mean and standard deviation we are telling the final inference\n",
    "#As an average 4.2 customer paying on time with fluctuation of +1.29 or -1.29\n",
    "Lower_Limit = 4.2-1.29\n",
    "Upper_Limit = 4.2+1.29\n",
    "print(\"LOWER LIMIT:\",Lower_Limit,\"UPPER_LIMIT:\",Upper_Limit)"
   ]
  },
  {
   "cell_type": "code",
   "execution_count": 26,
   "metadata": {},
   "outputs": [
    {
     "data": {
      "text/plain": [
       "2.8000000000000003"
      ]
     },
     "execution_count": 26,
     "metadata": {},
     "output_type": "execute_result"
    }
   ],
   "source": [
    "#for defaulters\n",
    "#2-3 customers are defaulters in sample of 7\n",
    "0.4*7"
   ]
  },
  {
   "cell_type": "code",
   "execution_count": null,
   "metadata": {},
   "outputs": [],
   "source": [
    "#poisson distribution\n",
    "#2)Cumulative density function\n",
    "#Example of work related injuries\n",
    "#lambda = 2.5 injuries"
   ]
  },
  {
   "cell_type": "code",
   "execution_count": 27,
   "metadata": {},
   "outputs": [],
   "source": [
    "#a)No work relate dinjuries occur\n",
    "rate     = 2.5 #mean \n",
    "n        = np.arange(0,10)  # X- axis theoretically we can take it infinite\n",
    "poisson  = stats.poisson.pmf(n,rate)"
   ]
  },
  {
   "cell_type": "code",
   "execution_count": 28,
   "metadata": {},
   "outputs": [
    {
     "data": {
      "text/plain": [
       "array([0.082085  , 0.2052125 , 0.25651562, 0.21376302, 0.13360189,\n",
       "       0.06680094, 0.02783373, 0.00994062, 0.00310644, 0.0008629 ])"
      ]
     },
     "execution_count": 28,
     "metadata": {},
     "output_type": "execute_result"
    }
   ],
   "source": [
    "poisson"
   ]
  },
  {
   "cell_type": "code",
   "execution_count": 33,
   "metadata": {},
   "outputs": [
    {
     "name": "stdout",
     "output_type": "stream",
     "text": [
      "Probability there is 0 work related injuries: 0.0820849986238988\n",
      "Probability there is 1 work related injuries: 0.205212496559747\n",
      "Probability there is 2 work related injuries: 0.25651562069968376\n"
     ]
    }
   ],
   "source": [
    "print(\"Probability there is 0 work related injuries:\",poisson[0])\n",
    "print(\"Probability there is 1 work related injuries:\",poisson[1])\n",
    "print(\"Probability there is 2 work related injuries:\",poisson[2])"
   ]
  },
  {
   "cell_type": "code",
   "execution_count": 39,
   "metadata": {},
   "outputs": [
    {
     "name": "stdout",
     "output_type": "stream",
     "text": [
      "Probability there is 0 work related injuries: 8.21 %\n"
     ]
    }
   ],
   "source": [
    "#a)Probability that there is no work related injuries\n",
    "print(\"Probability there is 0 work related injuries: {0:.2f}\".format(poisson[0]*100),\"%\")"
   ]
  },
  {
   "cell_type": "code",
   "execution_count": 38,
   "metadata": {},
   "outputs": [
    {
     "name": "stdout",
     "output_type": "stream",
     "text": [
      "Probability that atleast 1 work related injury occurs: 91.79 %\n"
     ]
    }
   ],
   "source": [
    "#b)Atleast one work related injury occurs\n",
    "#P(X>=1)\n",
    "#p(X>=1)  = 1 - P(X<1)\n",
    "atleast_1 = 1 - poisson[0]\n",
    "print(\"Probability that atleast 1 work related injury occurs: {0:.2f}\".format(atleast_1*100),\"%\")"
   ]
  },
  {
   "cell_type": "code",
   "execution_count": 41,
   "metadata": {},
   "outputs": [
    {
     "name": "stdout",
     "output_type": "stream",
     "text": [
      "Probability that atleast 1 work related injury occurs: 91.79 %\n"
     ]
    }
   ],
   "source": [
    "#solution 2\n",
    "at_1 = 100 - (poisson[0]*100)\n",
    "print(\"Probability that atleast 1 work related injury occurs: {0:.2f}\".format(at_1),\"%\")"
   ]
  },
  {
   "cell_type": "code",
   "execution_count": null,
   "metadata": {},
   "outputs": [],
   "source": [
    "#EG2 refer notebook\n",
    "#lambda = 6"
   ]
  },
  {
   "cell_type": "code",
   "execution_count": 47,
   "metadata": {},
   "outputs": [],
   "source": [
    "#Q1)what p(x=4) arrive in bank at given min?\n",
    "rate = 6 #mean\n",
    "n    = np.arange(0,20)"
   ]
  },
  {
   "cell_type": "code",
   "execution_count": 48,
   "metadata": {},
   "outputs": [],
   "source": [
    "eg2_poisson = stats.poisson.pmf(n,rate)"
   ]
  },
  {
   "cell_type": "code",
   "execution_count": 49,
   "metadata": {},
   "outputs": [
    {
     "data": {
      "text/plain": [
       "array([2.47875218e-03, 1.48725131e-02, 4.46175392e-02, 8.92350784e-02,\n",
       "       1.33852618e-01, 1.60623141e-01, 1.60623141e-01, 1.37676978e-01,\n",
       "       1.03257734e-01, 6.88384890e-02, 4.13030934e-02, 2.25289600e-02,\n",
       "       1.12644800e-02, 5.19899078e-03, 2.22813891e-03, 8.91255562e-04,\n",
       "       3.34220836e-04, 1.17960295e-04, 3.93200983e-05, 1.24168732e-05])"
      ]
     },
     "execution_count": 49,
     "metadata": {},
     "output_type": "execute_result"
    }
   ],
   "source": [
    "eg2_poisson"
   ]
  },
  {
   "cell_type": "code",
   "execution_count": 61,
   "metadata": {},
   "outputs": [
    {
     "name": "stdout",
     "output_type": "stream",
     "text": [
      "Probability 4 customer visits bank in a given minute: 13.39 %\n"
     ]
    }
   ],
   "source": [
    "print(\"Probability 4 customer visits bank in a given minute: {0:.2f}\".format(eg2_poisson[4]*100),\"%\")"
   ]
  },
  {
   "cell_type": "code",
   "execution_count": 63,
   "metadata": {},
   "outputs": [
    {
     "name": "stdout",
     "output_type": "stream",
     "text": [
      "Probability 3 customer visits bank in a given minute: 8.92 %\n"
     ]
    }
   ],
   "source": [
    "#Q2)what is the probability that 3 customer visits the bank at a given minute?\n",
    "print(\"Probability 3 customer visits bank in a given minute: {0:.2f}\".format(eg2_poisson[3]*100),\"%\")"
   ]
  },
  {
   "cell_type": "code",
   "execution_count": 65,
   "metadata": {},
   "outputs": [
    {
     "name": "stdout",
     "output_type": "stream",
     "text": [
      "Highest Probability: 6\n"
     ]
    }
   ],
   "source": [
    "#Q3)for what value of x you have got highest probability\n",
    "print(\"Highest Probability:\",np.argmax(eg2_poisson))"
   ]
  },
  {
   "cell_type": "code",
   "execution_count": 66,
   "metadata": {},
   "outputs": [
    {
     "data": {
      "text/plain": [
       "[<matplotlib.lines.Line2D at 0x2034c3b22b0>]"
      ]
     },
     "execution_count": 66,
     "metadata": {},
     "output_type": "execute_result"
    },
    {
     "data": {
      "image/png": "[encoded data removed]",
      "text/plain": [
       "<Figure size 432x288 with 1 Axes>"
      ]
     },
     "metadata": {
      "needs_background": "light"
     },
     "output_type": "display_data"
    }
   ],
   "source": [
    "plt.plot(eg2_poisson)"
   ]
  },
  {
   "cell_type": "markdown",
   "metadata": {},
   "source": [
    "# Normal Distribution"
   ]
  },
  {
   "cell_type": "code",
   "execution_count": null,
   "metadata": {},
   "outputs": [],
   "source": [
    "#cell phone example\n",
    "#How to figure out problem is for normal distribution ==> \n",
    "#if units are given then its a normal distribution"
   ]
  },
  {
   "cell_type": "code",
   "execution_count": 67,
   "metadata": {},
   "outputs": [],
   "source": [
    "mu     = 68 \n",
    "sigma  = 12"
   ]
  },
  {
   "cell_type": "code",
   "execution_count": 69,
   "metadata": {},
   "outputs": [
    {
     "data": {
      "text/plain": [
       "1.8333333333333333"
      ]
     },
     "execution_count": 69,
     "metadata": {},
     "output_type": "execute_result"
    }
   ],
   "source": [
    "#Step1 - Calculate the Z-value\n",
    "z      = (90-mu)/sigma   #X = 90\n",
    "z"
   ]
  },
  {
   "cell_type": "code",
   "execution_count": 81,
   "metadata": {},
   "outputs": [
    {
     "name": "stdout",
     "output_type": "stream",
     "text": [
      "Portion of smart phone users are spending more than 90 minutes in sending message daily: 3.3377 %\n"
     ]
    }
   ],
   "source": [
    "#stats.norm.cdf will give area to the left of point 1.83 \n",
    "#But we want area right of 1.83\n",
    "#a) what proportion of the smart phone users are spending more than 90 minutes in sending messages daily?\n",
    "P = 1 - stats.norm.cdf(z)\n",
    "print(\"Portion of smart phone users are spending more than 90 minutes in sending message daily: {0:1.4f}\".format(P*100),\"%\")"
   ]
  },
  {
   "cell_type": "code",
   "execution_count": 83,
   "metadata": {},
   "outputs": [
    {
     "data": {
      "text/plain": [
       "0.0"
      ]
     },
     "execution_count": 83,
     "metadata": {},
     "output_type": "execute_result"
    }
   ],
   "source": [
    "#Exact mean value\n",
    "z      = (68-mu)/sigma   #X = 68\n",
    "z"
   ]
  },
  {
   "cell_type": "code",
   "execution_count": 86,
   "metadata": {},
   "outputs": [
    {
     "name": "stdout",
     "output_type": "stream",
     "text": [
      "Portion of smart phone users are spending more than 90 minutes in sending message daily: 50.0000 %\n"
     ]
    }
   ],
   "source": [
    "P = 1 - stats.norm.cdf(z)    # for mean u put 1 -      stats.norm.cdf(z) or stats.norm.cdf(z) it is same\n",
    "#P = stats.norm.cdf(z)       # same as above\n",
    "print(\"Portion of smart phone users are spending more than 90 minutes in sending message daily: {0:1.4f}\".format(P*100),\"%\")"
   ]
  },
  {
   "cell_type": "code",
   "execution_count": 87,
   "metadata": {},
   "outputs": [
    {
     "name": "stdout",
     "output_type": "stream",
     "text": [
      "Z-scaled Value: -4.0\n",
      "Proportion of customers are spending less than 20 minutes: 0.003 %\n"
     ]
    }
   ],
   "source": [
    "#b) What proportion of customers are  spending less than 20 minutes?\n",
    "z1 = (20 - mu)/sigma  #X  = 20\n",
    "print(\"Z-scaled Value:\",z1)\n",
    "P  = stats.norm.cdf(-4)\n",
    "print(\"Proportion of customers are spending less than 20 minutes: {0:1.3f}\".format(P*100),\"%\")"
   ]
  },
  {
   "cell_type": "code",
   "execution_count": 96,
   "metadata": {},
   "outputs": [
    {
     "name": "stdout",
     "output_type": "stream",
     "text": [
      "Z-scaled value for 50: -1.5\n",
      "Z-scaled value for 100: 2.6666666666666665\n",
      "Proportion of customers spending between 50 minutes and 100 minutes is: 92.94 %\n"
     ]
    }
   ],
   "source": [
    "#c)What proportion of customers are spending between 50 minutes to 100 minutes ?\n",
    "z1 = (50 - mu)/sigma\n",
    "z2 = (100 - mu)/sigma\n",
    "print(\"Z-scaled value for 50:\",z1)\n",
    "print(\"Z-scaled value for 100:\",z2)\n",
    "P1 = stats.norm.cdf(z1)\n",
    "P2 = stats.norm.cdf(z2)\n",
    "P  = P2 - P1\n",
    "print(\"Proportion of customers spending between 50 minutes and 100 minutes is: {0:.2f}\".format(P*100),\"%\")"
   ]
  },
  {
   "cell_type": "code",
   "execution_count": null,
   "metadata": {},
   "outputs": [],
   "source": [
    "#Framed ques\n",
    "#Mean weight of chips packed is 295 grams with standard deviation of 25 grams\n",
    "#a)What is the probab ,weight < 280 gms\n",
    "#b)What probab , weight > 350 gms\n",
    "#c) what proba ,weight > 260 and weight < 340"
   ]
  },
  {
   "cell_type": "code",
   "execution_count": 99,
   "metadata": {},
   "outputs": [
    {
     "data": {
      "text/plain": [
       "0.2742531177500736"
      ]
     },
     "execution_count": 99,
     "metadata": {},
     "output_type": "execute_result"
    }
   ],
   "source": [
    "#a)\n",
    "mu , sigma  = 295 , 25\n",
    "z  = (280 - mu)/sigma\n",
    "z\n",
    "stats.norm.cdf(z)"
   ]
  },
  {
   "cell_type": "code",
   "execution_count": 110,
   "metadata": {},
   "outputs": [
    {
     "name": "stdout",
     "output_type": "stream",
     "text": [
      "2.2\n"
     ]
    },
    {
     "data": {
      "text/plain": [
       "0.01390344751349859"
      ]
     },
     "execution_count": 110,
     "metadata": {},
     "output_type": "execute_result"
    }
   ],
   "source": [
    "#b\n",
    "z  = (350 - mu)/sigma\n",
    "print(z)\n",
    "1 - stats.norm.cdf(z)"
   ]
  },
  {
   "cell_type": "code",
   "execution_count": 109,
   "metadata": {},
   "outputs": [
    {
     "name": "stdout",
     "output_type": "stream",
     "text": [
      "-1.4   1.8\n"
     ]
    },
    {
     "data": {
      "text/plain": [
       "0.8833130216533032"
      ]
     },
     "execution_count": 109,
     "metadata": {},
     "output_type": "execute_result"
    }
   ],
   "source": [
    "#c)\n",
    "z1  = (260 - mu)/sigma\n",
    "z2  = (340 - mu)/sigma\n",
    "print(z1,\" \",z2)\n",
    "P2 = stats.norm.cdf(z2) \n",
    "P1 = stats.norm.cdf(z1)\n",
    "P  = P2 - P1\n",
    "P"
   ]
  },
  {
   "cell_type": "code",
   "execution_count": 1,
   "metadata": {},
   "outputs": [
    {
     "data": {
      "text/plain": [
       "12"
      ]
     },
     "execution_count": 1,
     "metadata": {},
     "output_type": "execute_result"
    }
   ],
   "source": []
  },
  {
   "cell_type": "code",
   "execution_count": null,
   "metadata": {},
   "outputs": [],
   "source": []
  },
  {
   "cell_type": "code",
   "execution_count": null,
   "metadata": {},
   "outputs": [],
   "source": []
  },
  {
   "cell_type": "code",
   "execution_count": null,
   "metadata": {},
   "outputs": [],
   "source": []
  },
  {
   "cell_type": "code",
   "execution_count": null,
   "metadata": {},
   "outputs": [],
   "source": []
  },
  {
   "cell_type": "code",
   "execution_count": null,
   "metadata": {},
   "outputs": [],
   "source": []
  },
  {
   "cell_type": "code",
   "execution_count": null,
   "metadata": {},
   "outputs": [],
   "source": []
  },
  {
   "cell_type": "code",
   "execution_count": null,
   "metadata": {},
   "outputs": [],
   "source": []
  },
  {
   "cell_type": "code",
   "execution_count": null,
   "metadata": {},
   "outputs": [],
   "source": []
  }
 ],
 "metadata": {
  "kernelspec": {
   "display_name": "Python 3",
   "language": "python",
   "name": "python3"
  },
  "language_info": {
   "codemirror_mode": {
    "name": "ipython",
    "version": 3
   },
   "file_extension": ".py",
   "mimetype": "text/x-python",
   "name": "python",
   "nbconvert_exporter": "python",
   "pygments_lexer": "ipython3",
   "version": "3.8.5"
  }
 },
 "nbformat": 4,
 "nbformat_minor": 4
}
